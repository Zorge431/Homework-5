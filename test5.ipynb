{
  "nbformat": 4,
  "nbformat_minor": 0,
  "metadata": {
    "colab": {
      "provenance": [],
      "authorship_tag": "ABX9TyPBlPN7d7jcWXu4RtXNqvqo",
      "include_colab_link": true
    },
    "kernelspec": {
      "name": "python3",
      "display_name": "Python 3"
    },
    "language_info": {
      "name": "python"
    }
  },
  "cells": [
    {
      "cell_type": "markdown",
      "metadata": {
        "id": "view-in-github",
        "colab_type": "text"
      },
      "source": [
        "<a href=\"https://colab.research.google.com/github/Zorge431/Homework-5/blob/main/test5.ipynb\" target=\"_parent\"><img src=\"https://colab.research.google.com/assets/colab-badge.svg\" alt=\"Open In Colab\"/></a>"
      ]
    },
    {
      "cell_type": "code",
      "source": [
        "import json\n",
        "import csv"
      ],
      "metadata": {
        "id": "DgmbnhYxzRFf"
      },
      "execution_count": 1,
      "outputs": []
    },
    {
      "cell_type": "code",
      "source": [
        "with open('purchase_log.txt', 'r', encoding='utf-8') as f:\n",
        "  data = f.readlines()\n",
        "\n",
        "purchases = {}\n",
        "\n",
        "for line in data:\n",
        "  record = json.loads(line.strip())\n",
        "  if record['user_id'] != \"user_id\":\n",
        "    purchases[record['user_id']] = record['category']"
      ],
      "metadata": {
        "collapsed": true,
        "id": "bbI_Y4xd035f"
      },
      "execution_count": null,
      "outputs": []
    },
    {
      "cell_type": "code",
      "source": [
        "with open('visit_log.csv', 'r', encoding='utf-8') as visit_f:\n",
        "  with open('funnel.csv', 'w', newline='', encoding='utf-8') as funnel_f:\n",
        "    reader = csv.reader(visit_f)\n",
        "    writer = csv.writer(funnel_f)\n",
        "    for line in reader:\n",
        "      if line[0] in purchases:\n",
        "        line.append(purchases[line[0]])\n",
        "        writer.writerow(line)"
      ],
      "metadata": {
        "id": "cdE6SvfK_1mf"
      },
      "execution_count": null,
      "outputs": []
    }
  ]
}